{
 "cells": [
  {
   "cell_type": "markdown",
   "metadata": {},
   "source": [
    "# Моделирование по электричеству: \n",
    "# Движение частицы в поле плоского конденсатора.\n",
    "\n",
    "### Петренко Людмила, М3104\n"
   ]
  },
  {
   "cell_type": "markdown",
   "metadata": {},
   "source": [
    "## Формулировка задачи:\n",
    "Частица влетает в поле конденсатора параллельно пластинам вдоль оси конденсатора. Под действием поля конденсатора частица отклоняется к одной из пластин и к концу пути попадает на неё. Координату, где упала частица можно измерить. \n",
    "Создать модель поведения частицы с возможностью изучения её траектории в зависимости от изменяемых параметров системы. \n",
    "Определить закон, по которому изменяется траектория движения частицы. Учесть влияние силы тяжести на частицу и визуализировать траекторию движения частицы в виде графика.\n",
    "\n",
    "Входными данными являются:\n",
    "1. масса частицы \n",
    "2. заряд частицы \n",
    "3. расстояние между пластинами конденсатора\n",
    "4. напряжение на конденсаторе"
   ]
  },
  {
   "cell_type": "markdown",
   "metadata": {},
   "source": [
    "### Ввод данных:\n",
    "По умолчанию частицей в задаче будет считаться электрон.\n",
    "\n",
    "Масса по умолчанию = 9.109 * 10**(-31) кг\n",
    "\n",
    "Заряд по умолчанию = -1.60217*10**(-19) Кл"
   ]
  },
  {
   "cell_type": "code",
   "execution_count": null,
   "metadata": {},
   "outputs": [],
   "source": [
    "print(\"Введите массу частицы:\")\n",
    "try:\n",
    "    m = int(input())\n",
    "except ValueError:\n",
    "    m = 9.109 * 10**(-31)\n",
    "print(\"Введите заряд частицы:\")\n",
    "try:\n",
    "    q = int(input())\n",
    "except ValueError:\n",
    "    q = -1.60217*10**(-19)\n",
    "print(\"Введите расстояние между пластинами конденсатора:\")\n",
    "try:\n",
    "    distance = int(input())\n",
    "except ValueError:\n",
    "    distance = 10\n",
    "print(\"Введите напряжение на конденсаторе:\")\n",
    "try:\n",
    "    U = int(input())\n",
    "except ValueError:\n",
    "    U = 10"
   ]
  },
  {
   "cell_type": "markdown",
   "metadata": {},
   "source": [
    "## Модель:"
   ]
  },
  {
   "cell_type": "code",
   "execution_count": null,
   "metadata": {},
   "outputs": [],
   "source": [
    "%matplotlib inline\n",
    "import numpy as np\n",
    "import matplotlib.pyplot as plt\n",
    "import matplotlib.patches as patches\n",
    "import seaborn as sns"
   ]
  },
  {
   "cell_type": "code",
   "execution_count": 3,
   "metadata": {},
   "outputs": [
    {
     "data": {
      "image/png": "[encoded data removed]",
      "text/plain": [
       "<Figure size 936x216 with 1 Axes>"
      ]
     },
     "metadata": {
      "needs_background": "light"
     },
     "output_type": "display_data"
    }
   ],
   "source": [
    "fig = plt.figure(figsize=(13,3))\n",
    "ax = plt.subplot(1,1,1) \n",
    "\n",
    "ax.set_xlim((-0.5, 10))\n",
    "ax.set_ylim((-0.5, 10 + 0.5)) # change to distance\n",
    "\n",
    "ax.minorticks_on()\n",
    "ax.grid(True, which='both')\n",
    "ax.grid(which='minor', color='gray', linestyle=':')\n",
    "\n",
    "ax.add_patch(patches.Rectangle((0, -0.5), 10, 0.5, edgecolor = 'red', facecolor = 'orange',fill = True))\n",
    "ax.add_patch(patches.Rectangle((0, 10), 10, 0.5, edgecolor = 'red', facecolor = 'orange',fill = True))\n",
    "\n",
    "point, = ax.plot([], [], 'r.', ms=20)\n",
    "line, = ax.plot([], [], lw=3)"
   ]
  }
 ],
 "metadata": {
  "interpreter": {
   "hash": "d8746b63d48ea75892269e37045e34e2dcdd5c662f8ac5eba3fc828496042d8d"
  },
  "kernelspec": {
   "display_name": "Python 3.8.1 32-bit (system)",
   "language": "python",
   "name": "python3"
  },
  "language_info": {
   "codemirror_mode": {
    "name": "ipython",
    "version": 3
   },
   "file_extension": ".py",
   "mimetype": "text/x-python",
   "name": "python",
   "nbconvert_exporter": "python",
   "pygments_lexer": "ipython3",
   "version": "3.8.1"
  },
  "orig_nbformat": 4
 },
 "nbformat": 4,
 "nbformat_minor": 2
}
