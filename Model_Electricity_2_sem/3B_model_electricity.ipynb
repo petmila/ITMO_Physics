{
 "cells": [
  {
   "cell_type": "markdown",
   "metadata": {},
   "source": [
    "# Моделирование по электричеству: \n",
    "# Движение частицы в поле плоского конденсатора.\n",
    "\n",
    "### Петренко Людмила, Кусайкина Елизавета М3104\n"
   ]
  },
  {
   "cell_type": "markdown",
   "metadata": {},
   "source": [
    "## Формулировка задачи:\n",
    "Частица влетает в поле конденсатора параллельно пластинам вдоль оси конденсатора. Под действием поля конденсатора частица отклоняется к одной из пластин и к концу пути попадает на неё. Координату, где упала частица можно измерить. \n",
    "Создать модель поведения частицы с возможностью изучения её траектории в зависимости от изменяемых параметров системы. \n",
    "Определить закон, по которому изменяется траектория движения частицы. Учесть влияние силы тяжести на частицу и визуализировать траекторию движения частицы в виде графика.\n",
    "\n",
    "Входными данными являются:\n",
    "1. масса частицы \n",
    "2. заряд частицы \n",
    "3. расстояние между пластинами конденсатора\n",
    "4. напряжение на конденсаторе\n",
    "5. начальная скорость частицы\n",
    "6. длина конденсатора(опционально)\n",
    "7. начальная координата по вертикали"
   ]
  },
  {
   "cell_type": "markdown",
   "metadata": {},
   "source": [
    "### Ввод данных:\n",
    "По умолчанию частицей в задаче будет считаться электрон.\n",
    "\n",
    "Масса по умолчанию = 9.109 * 10**(-31) кг\n",
    "\n",
    "Заряд по умолчанию = -1.60217*10**(-19) Кл"
   ]
  },
  {
   "cell_type": "code",
   "execution_count": 917,
   "metadata": {},
   "outputs": [
    {
     "name": "stdout",
     "output_type": "stream",
     "text": [
      "Введите массу частицы:\n",
      "Введите заряд частицы:\n",
      "Введите расстояние между пластинами конденсатора:\n",
      "Введите напряжение на конденсаторе:\n",
      "Введите начальную скорость частицы:\n",
      "Введите длину конденсатора:\n",
      "Введите начальную координату:\n"
     ]
    }
   ],
   "source": [
    "print(\"Введите массу частицы:\")\n",
    "try:\n",
    "    m =  9.109 * 10**(12)#int(input())\n",
    "except ValueError:\n",
    "    m = 9.109 * 10**(-31)\n",
    "print(\"Введите заряд частицы:\")\n",
    "try:\n",
    "    q = 1.60217*10**(-19) #int(input())\n",
    "except ValueError:\n",
    "    q = -1.60217*10**(-19)\n",
    "print(\"Введите расстояние между пластинами конденсатора:\")\n",
    "try:\n",
    "    distance = 0.5 #int(input())\n",
    "except ValueError:\n",
    "    distance = 0.05\n",
    "print(\"Введите напряжение на конденсаторе:\")\n",
    "try:\n",
    "    U = 50000 #int(input())\n",
    "except ValueError:\n",
    "    U = 500\n",
    "print(\"Введите начальную скорость частицы:\")\n",
    "try:\n",
    "    v_0 = 500000 #int(input())\n",
    "except ValueError:\n",
    "    v_0 = 5\n",
    "try:\n",
    "    length = 10 #int(input())\n",
    "except ValueError:\n",
    "    length = 10**9\n",
    "print(\"Введите длину конденсатора:\")\n",
    "try:\n",
    "    y_enter = 0.1 #int(input())\n",
    "    if (abs(y_enter) > abs(distance/2)):\n",
    "        y_enter = 0\n",
    "except ValueError:\n",
    "    y_enter = 0\n",
    "print(\"Введите начальную координату:\")\n",
    "\n",
    "g = 9.8"
   ]
  },
  {
   "cell_type": "markdown",
   "metadata": {},
   "source": [
    "## Модель:"
   ]
  },
  {
   "cell_type": "code",
   "execution_count": 918,
   "metadata": {},
   "outputs": [],
   "source": [
    "%matplotlib inline\n",
    "import numpy as np\n",
    "import matplotlib.pyplot as plt\n",
    "import matplotlib.patches as patches\n",
    "import math"
   ]
  },
  {
   "cell_type": "code",
   "execution_count": 919,
   "metadata": {},
   "outputs": [],
   "source": [
    "a = -g + q*U/(m*distance)\n",
    "\n",
    "def x(t):\n",
    "    return (v_0)*t\n",
    "\n",
    "def y(t):\n",
    "    return y_enter + (a)*(t*t)/2\n",
    "\n",
    "if a > 0:\n",
    "    t_end = math.sqrt((distance - 2*y_enter)/a)\n",
    "else:\n",
    "    t_end = math.sqrt((-distance - 2*y_enter)/a)\n",
    "\n",
    "t_after_end = np.linspace(0, 0)\n",
    "\n",
    "if x(t_end) > length:\n",
    "    t_end = length/v_0\n",
    "    t_after_end = np.linspace(0, distance*10)\n",
    "\n",
    "t = np.linspace(0, t_end)\n",
    "\n",
    "if length == 10**9:\n",
    "    length = x(t_end) + distance/10\n",
    "\n",
    "def y_after_end(t): #движение под углом к горизонту\n",
    "    return y(t_end) + (a*t_end)*t + (-g)*(t*t)/2\n",
    "\n",
    "def x_after_end(t):\n",
    "    return x(t_end) + (v_0)*t\n"
   ]
  },
  {
   "cell_type": "code",
   "execution_count": 920,
   "metadata": {},
   "outputs": [
    {
     "data": {
      "image/png": "[encoded data removed]",
      "text/plain": [
       "<Figure size 1080x360 with 1 Axes>"
      ]
     },
     "metadata": {
      "needs_background": "light"
     },
     "output_type": "display_data"
    }
   ],
   "source": [
    "fig = plt.figure(figsize=(15,5))\n",
    "ax = plt.subplot(1,1,1) \n",
    "\n",
    "ax.set_xlim((-distance/10, x(t_end) + distance/10))\n",
    "ax.set_ylim((-distance/2 - distance/10, distance/2 + distance/10))\n",
    "\n",
    "ax.minorticks_on()\n",
    "ax.grid(True, which='both')\n",
    "ax.grid(which='minor', color='gray', linestyle=':')\n",
    "\n",
    "ax.add_patch(patches.Rectangle((0, distance/2), length, distance/10, edgecolor = 'red', facecolor = 'orange',fill = True))\n",
    "ax.add_patch(patches.Rectangle((0, -distance/2 - distance/10), length, distance/10, edgecolor = 'red', facecolor = 'orange',fill = True))\n",
    "\n",
    "line, = ax.plot(x(t), y(t), lw=3, color = \"green\")\n",
    "if t_after_end.any() != np.linspace(0, 0).any():\n",
    "    line_after_end, = ax.plot(x_after_end(t_after_end), y_after_end(t_after_end), lw=3, color = \"green\")\n",
    "plt.savefig(\"большая_масса.jpg\")"
   ]
  }
 ],
 "metadata": {
  "kernelspec": {
   "display_name": "Python 3.8.1 32-bit",
   "language": "python",
   "name": "python3"
  },
  "language_info": {
   "codemirror_mode": {
    "name": "ipython",
    "version": 3
   },
   "file_extension": ".py",
   "mimetype": "text/x-python",
   "name": "python",
   "nbconvert_exporter": "python",
   "pygments_lexer": "ipython3",
   "version": "3.8.1"
  },
  "orig_nbformat": 4,
  "vscode": {
   "interpreter": {
    "hash": "b2ea904a2c97cd898af601d42a28fa3cd893b396ee86983298d1e1cab06a9de8"
   }
  }
 },
 "nbformat": 4,
 "nbformat_minor": 2
}
