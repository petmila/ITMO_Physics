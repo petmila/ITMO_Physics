{
 "cells": [
  {
   "cell_type": "markdown",
   "metadata": {},
   "source": [
    "### Моделирование по колебаниям: \"Выпрямление с фильтрацией\"\n",
    "\n",
    "##### Петренко Людмила, Кусайкина Елизавета М3104"
   ]
  },
  {
   "cell_type": "code",
   "execution_count": 1,
   "metadata": {},
   "outputs": [],
   "source": [
    "import numpy as np\n",
    "from matplotlib import pyplot as plt\n",
    "from celluloid import Camera"
   ]
  },
  {
   "cell_type": "markdown",
   "metadata": {},
   "source": [
    "#### Описание работы:\n",
    "Выпрямление - способ получения постоянного тока, например, для питания радиотехнических устройств.\n",
    "\n",
    "Объект выпрямления - электрическое напряжение переменного тока.\n",
    "\n",
    "Цель фильтрации при выпрямлении - ослабить переменную составляющую выпрямленного напряжения.\n",
    "\n",
    "В этой работе требовалось cмоделировать работу фильтравыпрямителя. На входе фильтра действует напряжение E(t) одно- или двухполупериодное, полученное из переменного синусоидального напряжения. Для ослабления переменной составляющей в схеме фильтра имеется реактивный элемент: конденсатор емкостью С. Фильтр работает на нагрузку сопротивлением Rн.\n",
    "\n",
    "![alt text](straightening_schem.png \"Title\")"
   ]
  },
  {
   "cell_type": "markdown",
   "metadata": {},
   "source": [
    "Выходное, выпряпленное напряжение можно рассчитать с помощью дифференциального уравнения, описывающего работу фильтра:\n",
    "\n",
    "$\\displaystyle \\frac{\\partial u(t)}{\\partial t}$ = $\\frac{1}{rC} $ [$E(t) $ - (1 + $\\frac{r}{R} $) $u(t) $]\n",
    "\n",
    "$u(0) = 0$ - начальное условие\n",
    "\n",
    "Решим задачу Коши:\n",
    "\n",
    "<blockquote> 1. Решаем соответствующее однородное уравнение как уравнение с разделяющимися переменными\n",
    "\n",
    "Пусть $w = $ - $\\frac{1}{rC} $ - $\\frac{1}{RC} $\n",
    "\n",
    "$\\displaystyle \\frac{\\partial u(t)}{\\partial t}$ + $wu(t) $ = 0 <=> $\\int_{}^{} \\frac{1}{u} \\; du = \\int_{}^{} wdt $ <=> $u = c(t)e^{wt}$\n",
    "</blockquote>\n",
    "\n",
    "<blockquote> 2. Подставляем результат в исходное неоднородное, находим c(t)\n",
    "\n",
    "$c(t) $ = $\\int_{}^{} \\frac{E(t)}{e^{wt}rC} \\; dt $\n",
    "\n",
    "</blockquote>"
   ]
  },
  {
   "cell_type": "markdown",
   "metadata": {},
   "source": [
    "<blockquote> 3. В зависимости от функции E(t) получаем\n",
    "\n",
    "Для E_one - однополупериодное выпрямленное напряжение, $E(t) = |\\sin(t)| $\n",
    "\n",
    "$c(t) $ = $\\int_{}^{} \\frac{|\\sin(t)|}{e^{wt}rC} \\; dt $\n",
    "</blockquote>\n",
    "\n",
    "При $\\sin(t) > 0 $ :\n",
    "\n",
    "$c(t) $ = $\\int_{}^{} \\frac{\\sin(t)}{e^{wt}rC} \\; dt $ = -$\\frac{w}{rC}\\sin(t)e^{-wt} $ + $\\frac{w}{rC}\\int_{}^{} e^{-wt}\\cos(t) \\; dt $ = -$\\frac{w}{rC}\\sin(t)e^{-wt} $ - $\\frac{w^{2}}{rC}\\cos(t)e^{-wt} $ - $\\frac{w^{2}}{rC}\\int_{}^{} e^{-wt}\\sin(t) \\; dt $ \n",
    "\n",
    "=> $(1 + w^{2})\\int_{}^{} \\frac{|\\sin(t)|}{e^{wt}rC} \\; dt $ = -$\\frac{w}{rC}\\sin(t)e^{-wt} $ - $\\frac{w^{2}}{rC}\\cos(t)e^{-wt} $\n",
    "\n",
    "=> $c(t) $ = - $\\frac{1}{(1 + w^{2})rC}\\left(\\sin(t)we^{-wt} + \\cos(t)w^{2}e^{-wt}\\right) $ + const\n"
   ]
  },
  {
   "cell_type": "markdown",
   "metadata": {},
   "source": [
    "\n",
    "При $\\sin(t) \\le 0 $ :\n",
    "\n",
    "$c(t) $ = - $\\int_{}^{} \\frac{\\sin(t)}{e^{wt}rC} \\; dt $ = $\\frac{w}{rC}\\sin(t)e^{-wt} $ - $\\frac{w}{rC}\\int_{}^{} e^{-wt}\\cos(t) \\; dt $ = $\\frac{w}{rC}\\sin(t)e^{-wt} $ + $\\frac{w^{2}}{rC}\\cos(t)e^{-wt} $ + $\\frac{w^{2}}{rC}\\int_{}^{} e^{-wt}\\sin(t) \\; dt $ \n",
    "\n",
    "=> $(- 1 - w^{2})\\int_{}^{} \\frac{|\\sin(t)|}{e^{wt}rC} \\; dt $ = $\\frac{w}{rC}\\sin(t)e^{-wt} $ + $\\frac{w^{2}}{rC}\\cos(t)e^{-wt} $\n",
    "\n",
    "=> $c(t) $ = $\\frac{1}{(1 + w^{2})rC}\\left(\\sin(t)we^{-wt} + \\cos(t)w^{2}e^{-wt}\\right) $ + const\n"
   ]
  },
  {
   "cell_type": "markdown",
   "metadata": {},
   "source": [
    "> Для E_two - двухполупериодное выпрямленное напряжение, $E(t) = \\sin(t) $, при $\\sin(t) > 0 $ иначе $E(t) = 0 $\n",
    "\n",
    "При $\\sin(t) > 0 $ :\n",
    "\n",
    "$c(t) $ = $\\int_{}^{} \\frac{\\sin(t)}{e^{wt}rC} \\; dt $ = -$\\frac{w}{rC}\\sin(t)e^{-wt} $ + $\\frac{w}{rC}\\int_{}^{} e^{-wt}\\cos(t) \\; dt $ = -$\\frac{w}{rC}\\sin(t)e^{-wt} $ - $\\frac{w^{2}}{rC}\\cos(t)e^{-wt} $ - $\\frac{w^{2}}{rC}\\int_{}^{} e^{-wt}\\sin(t) \\; dt $ \n",
    "\n",
    "=> $(1 + w^{2})\\int_{}^{} \\frac{|\\sin(t)|}{e^{wt}rC} \\; dt $ = -$\\frac{w}{rC}\\sin(t)e^{-wt} $ - $\\frac{w^{2}}{rC}\\cos(t)e^{-wt} $\n",
    "\n",
    "=> $c(t) $ = - $\\frac{1}{(1 + w^{2})rC}\\left(\\sin(t)we^{-wt} + \\cos(t)w^{2}e^{-wt}\\right) $ + const\n",
    "\n",
    "При $\\sin(t) \\le 0 $ : \n",
    "\n",
    "$c(t) = 0 $ "
   ]
  },
  {
   "cell_type": "markdown",
   "metadata": {},
   "source": [
    "> 4. Находим const из начальных условий\n",
    "\n",
    "$\\sin(t) > 0 $ :\n",
    "\n",
    "$u(0) = \\left(- \\frac{1}{(1 + w^{2})rC} \\left(\\sin(0)we^{0} + \\cos(0)w^{2}e^{0}\\right)  + const\\right)e^{0} $ = $- \\frac{w^{2}}{(1 + w^{2})rC} + const $ = 0 => $const = \\frac{w^{2}}{(1 + w^{2})rC} $\n",
    "\n",
    "E_one,  $\\sin(t) \\le 0 $ :\n",
    "\n",
    "$const = - \\frac{w^{2}}{(1 + w^{2})rC} $"
   ]
  },
  {
   "cell_type": "markdown",
   "metadata": {},
   "source": [
    "> 5. Получили общее решение\n",
    "\n",
    "$\\sin(t) > 0 $ :\n",
    "\n",
    "$u(t) = \\left(- \\frac{1}{(1 + w^{2})rC} \\left(\\sin(t)we^{-wt} + \\cos(t)w^{2}e^{-wt}\\right)  + \\frac{w^{2}}{(1 + w^{2})rC}\\right)e^{wt} $\n",
    "\n",
    "E_one,  $\\sin(t) \\le 0 $ :\n",
    "\n",
    "$u(t) = \\left(\\frac{1}{(1 + w^{2})rC} \\left(\\sin(t)we^{-wt} + \\cos(t)w^{2}e^{-wt}\\right)  - \\frac{w^{2}}{(1 + w^{2})rC}\\right)e^{wt} $\n",
    "\n",
    "E_two,  $\\sin(t) \\le 0 $ :\n",
    "\n",
    "$u(t) = 0 $"
   ]
  },
  {
   "cell_type": "markdown",
   "metadata": {},
   "source": [
    "Зададим параметры фильтра:"
   ]
  },
  {
   "cell_type": "code",
   "execution_count": 94,
   "metadata": {},
   "outputs": [],
   "source": [
    "r = 0.1 # Внутреннее сопротивление источника напряжения\n",
    "R = 10 # Сопротивление нагрузки\n",
    "C = 1 # Емкость конденсатора"
   ]
  },
  {
   "cell_type": "code",
   "execution_count": 99,
   "metadata": {},
   "outputs": [],
   "source": [
    "w = (-1/r*C - 1/C*R)\n",
    "def u(t):\n",
    "    return np.exp(w*t)*(w**2/(r*C*(1 + w**2))) - (np.sin(t)*w*np.exp(-w*t) + np.cos(t)*(w*w)*np.exp(-w*t))*np.exp(w*t)*(1/(r*C*(1 + w*w)))\n",
    "def u_(t):\n",
    "    return - np.exp(w*t)*(w**2/(r*C*(1 + w**2))) + (np.sin(t)*w*np.exp(-w*t) + np.cos(t)*w*w*np.exp(-w*t))*np.exp(w*t)*(1/(r*C*(1 + w*w)))"
   ]
  },
  {
   "cell_type": "code",
   "execution_count": 106,
   "metadata": {},
   "outputs": [
    {
     "name": "stdout",
     "output_type": "stream",
     "text": [
      "nan\n",
      "0.0\n"
     ]
    },
    {
     "name": "stderr",
     "output_type": "stream",
     "text": [
      "C:\\Users\\Администратор\\AppData\\Local\\Temp\\ipykernel_13100\\962733837.py:3: RuntimeWarning: overflow encountered in exp\n",
      "  return np.exp(w*t)*(w**2/(r*C*(1 + w**2))) - (np.sin(t)*w*np.exp(-w*t) + np.cos(t)*(w*w)*np.exp(-w*t))*np.exp(w*t)*(1/(r*C*(1 + w*w)))\n",
      "C:\\Users\\Администратор\\AppData\\Local\\Temp\\ipykernel_13100\\962733837.py:3: RuntimeWarning: invalid value encountered in double_scalars\n",
      "  return np.exp(w*t)*(w**2/(r*C*(1 + w**2))) - (np.sin(t)*w*np.exp(-w*t) + np.cos(t)*(w*w)*np.exp(-w*t))*np.exp(w*t)*(1/(r*C*(1 + w*w)))\n"
     ]
    },
    {
     "data": {
      "text/plain": [
       "[<matplotlib.lines.Line2D at 0x18b31fb8>]"
      ]
     },
     "execution_count": 106,
     "metadata": {},
     "output_type": "execute_result"
    },
    {
     "data": {
      "image/png": "[encoded data removed]",
      "text/plain": [
       "<Figure size 432x288 with 1 Axes>"
      ]
     },
     "metadata": {
      "needs_background": "light"
     },
     "output_type": "display_data"
    }
   ],
   "source": [
    "import math\n",
    "def E_one_u(t):\n",
    "    u_list = []\n",
    "    for i in t:\n",
    "        if np.sin(i) > 0:\n",
    "            u_list.append(u(i))\n",
    "        elif np.sin(i) <= 0:\n",
    "            u_list.append(u_(i))\n",
    "    return u_list\n",
    "\n",
    "def E_one(t):\n",
    "    return abs(np.sin(t))\n",
    "\n",
    "def E_two_u(t):\n",
    "    for i in t:\n",
    "        if np.sin(i) > 0:\n",
    "            return u(i)\n",
    "        elif np.sin(i) <= 0:\n",
    "            return 0\n",
    "\n",
    "t = np.linspace(0, 20*np.pi, 1000)\n",
    "\n",
    "print(u(1))\n",
    "print(u(0))\n",
    "\n",
    "plt.plot(t, E_one(t), color='red', label=\"U(t)\")"
   ]
  },
  {
   "cell_type": "code",
   "execution_count": 101,
   "metadata": {},
   "outputs": [
    {
     "name": "stderr",
     "output_type": "stream",
     "text": [
      "C:\\Users\\Администратор\\AppData\\Local\\Temp\\ipykernel_13100\\962733837.py:3: RuntimeWarning: overflow encountered in exp\n",
      "  return np.exp(w*t)*(w**2/(r*C*(1 + w**2))) - (np.sin(t)*w*np.exp(-w*t) + np.cos(t)*(w*w)*np.exp(-w*t))*np.exp(w*t)*(1/(r*C*(1 + w*w)))\n",
      "C:\\Users\\Администратор\\AppData\\Local\\Temp\\ipykernel_13100\\962733837.py:3: RuntimeWarning: invalid value encountered in double_scalars\n",
      "  return np.exp(w*t)*(w**2/(r*C*(1 + w**2))) - (np.sin(t)*w*np.exp(-w*t) + np.cos(t)*(w*w)*np.exp(-w*t))*np.exp(w*t)*(1/(r*C*(1 + w*w)))\n",
      "C:\\Users\\Администратор\\AppData\\Local\\Temp\\ipykernel_13100\\962733837.py:5: RuntimeWarning: overflow encountered in exp\n",
      "  return - np.exp(w*t)*(w**2/(r*C*(1 + w**2))) + (np.sin(t)*w*np.exp(-w*t) + np.cos(t)*w*w*np.exp(-w*t))*np.exp(w*t)*(1/(r*C*(1 + w*w)))\n",
      "C:\\Users\\Администратор\\AppData\\Local\\Temp\\ipykernel_13100\\962733837.py:5: RuntimeWarning: invalid value encountered in double_scalars\n",
      "  return - np.exp(w*t)*(w**2/(r*C*(1 + w**2))) + (np.sin(t)*w*np.exp(-w*t) + np.cos(t)*w*w*np.exp(-w*t))*np.exp(w*t)*(1/(r*C*(1 + w*w)))\n"
     ]
    },
    {
     "data": {
      "text/plain": [
       "[<matplotlib.lines.Line2D at 0x189d72e0>]"
      ]
     },
     "execution_count": 101,
     "metadata": {},
     "output_type": "execute_result"
    },
    {
     "data": {
      "image/png": "[encoded data removed]",
      "text/plain": [
       "<Figure size 432x288 with 1 Axes>"
      ]
     },
     "metadata": {
      "needs_background": "light"
     },
     "output_type": "display_data"
    }
   ],
   "source": [
    "plt.minorticks_on()\n",
    "plt.grid(True, which='both')\n",
    "plt.grid(which='minor', color='gray', linestyle=':')\n",
    "plt.plot(t, E_one_u(t), color='green', label=\"U(t)\")\n",
    "plt.plot(t, E_one(t), color='red', label=\"U(t)\")"
   ]
  }
 ],
 "metadata": {
  "kernelspec": {
   "display_name": "Python 3.8.1 32-bit",
   "language": "python",
   "name": "python3"
  },
  "language_info": {
   "codemirror_mode": {
    "name": "ipython",
    "version": 3
   },
   "file_extension": ".py",
   "mimetype": "text/x-python",
   "name": "python",
   "nbconvert_exporter": "python",
   "pygments_lexer": "ipython3",
   "version": "3.8.1"
  },
  "orig_nbformat": 4,
  "vscode": {
   "interpreter": {
    "hash": "b2ea904a2c97cd898af601d42a28fa3cd893b396ee86983298d1e1cab06a9de8"
   }
  }
 },
 "nbformat": 4,
 "nbformat_minor": 2
}
