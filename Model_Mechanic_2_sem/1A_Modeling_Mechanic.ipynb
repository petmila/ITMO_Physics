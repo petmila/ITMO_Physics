{
 "cells": [
  {
   "cell_type": "markdown",
   "id": "62fc0051",
   "metadata": {},
   "source": [
    "# Моделирование по механике: \"А. Разгон/торможение\"\n",
    "\n",
    "### Петренко Людмила, М3104\n"
   ]
  },
  {
   "cell_type": "markdown",
   "id": "54c555e3",
   "metadata": {},
   "source": [
    "## Формулировка задачи:\n",
    "Минимальные входные данные: дистанция, координаты светофоров, максимальная скорость. \n",
    "Необходимо визуализировать материальную точку в движении по заданной дистанции. Характер движения материальной точки: разгон от светофора, равномерное движение при достижении максимальной скорости, торможение до остановки при приближении к следующему светофору. Построить графики зависимости x(t), v(t), a(t)."
   ]
  },
  {
   "cell_type": "markdown",
   "id": "67bd5f40",
   "metadata": {},
   "source": [
    "### Ввод данных:"
   ]
  },
  {
   "cell_type": "code",
   "execution_count": null,
   "id": "5df8310a",
   "metadata": {},
   "outputs": [],
   "source": [
    "print(\"Введите дистанцию:\")\n",
    "try:\n",
    "    dist = int(input())\n",
    "except ValueError:\n",
    "    dist = 10\n",
    "print(\"Введите координаты светофоров - значения перемещения относительно старта через пробелы:\")\n",
    "points = list(map(int, input().split()))\n",
    "print(\"Введите максимальную допустимую скорость:\")\n",
    "try:\n",
    "    v_max = int(input())\n",
    "except ValueError:\n",
    "    v_max = 10"
   ]
  },
  {
   "cell_type": "markdown",
   "id": "70015ff0",
   "metadata": {},
   "source": [
    "## Модель:\n",
    "\n",
    "Между каждыми координатами светофоров на участке произвольно выбираются возможные случаи движения:\n",
    "1. Материальная точка ускоряется и затем сразу замедляется.\n",
    "В таком случае на участке произвольно выбираются значение координаты, в которой скорость будет максимальна и само значение скорости из диапазона допустимых значений. Затем для этих значений рассчитывается необходимое ускорение.\n",
    "2. Материальная точка ускоряется, достигает максимальную скорость, движется равномерно, затем замедляется.\n",
    "Аналогично предыдущему случаю, но выбираются уже две координаты, тогда как скорость известна и равна максимальной.\n",
    "\n",
    "Таким образом, каждый участок, на котором характер движения меняется рассматривается отдельно и независимо от остальных. Для каждого такого независимого участка хранится набор параметров - начальная и конечная скорость, ускорение, начальная и конечная координаты и начальное время относительно начала движения от самого первого светофора.\n",
    "\n",
    "Функции ниже выражают общие уравнения движения, в которые подставляются эти наборы параметров."
   ]
  },
  {
   "cell_type": "code",
   "execution_count": 4,
   "id": "e9f997fd",
   "metadata": {},
   "outputs": [],
   "source": [
    "def function_x_t(v0, v_end, a, x0,t):\n",
    "        return x0 + v0*t + a*(t*t)/2\n",
    "    \n",
    "def function_v_t(v0, v_end, a, x0,t):\n",
    "        return v0 + a*t\n",
    "    \n",
    "def function_a_t(v0, v_end,  a, x0,t):\n",
    "    return a\n",
    "    \n",
    "def function_a(v0, v_end, x0, x_end):\n",
    "    return (v_end*v_end - v0*v0)/(2*(x_end - x0))\n",
    "    \n",
    "def function_x_for_x(t0, v0, v_end, a, x0, x_end):\n",
    "    if (a ==  0):\n",
    "        return t0 + (x_end - x0)/v0\n",
    "    return t0 + (v_end - v0)/a"
   ]
  },
  {
   "cell_type": "code",
   "execution_count": 5,
   "id": "b33573f5",
   "metadata": {},
   "outputs": [],
   "source": [
    "import random\n",
    "output_parameters = []\n",
    "x_points = []\n",
    "t_for_x_points = []\n",
    "t_for_x_points.append(0)\n",
    "a_for_max = []\n",
    "for i in range(len(points) - 1):\n",
    "    type_of_situation = random.randint(1,2)\n",
    "    if type_of_situation == 1: #добавляем одну новую точку и два набора параметров-констант\n",
    "        x_points.append(points[i])\n",
    "        x = random.randint(points[i] + 1, points[i + 1] - 1)\n",
    "        x_points.append(x)\n",
    "        v_end = random.randint(1, v_max)\n",
    "        a_plus = function_a(0, v_end, points[i], x)\n",
    "        t = function_x_for_x(t_for_x_points[len(t_for_x_points) - 1], 0, v_end, a_plus, points[i], x)\n",
    "        t_for_x_points.append(t)\n",
    "        output_parameters.append((0, v_end, a_plus, points[i]))\n",
    "        \n",
    "        a_minus = function_a(v_end, 0, x, points[i + 1])\n",
    "        output_parameters.append((v_end, 0, a_minus, x))\n",
    "        t = function_x_for_x(t_for_x_points[len(t_for_x_points) - 1], v_end, 0, a_minus, x,  points[i + 1])\n",
    "        t_for_x_points.append(t)\n",
    "        \n",
    "        a_for_max.append(a_plus)\n",
    "        a_for_max.append(a_minus)\n",
    "    else:                        #добавляем две новые точки и три набора параметров\n",
    "        x_points.append(points[i])\n",
    "        x = random.randint(points[i] + 1, points[i + 1] - 1)\n",
    "        x_2 = random.randint(x, points[i + 1] - 1)\n",
    "        x_points.append(x)\n",
    "        x_points.append(x_2)\n",
    "        a_plus = function_a(0, v_max, points[i], x)\n",
    "        t = function_x_for_x(t_for_x_points[len(t_for_x_points) - 1], 0, v_max, a_plus, points[i], x)\n",
    "        t_for_x_points.append(t)\n",
    "        output_parameters.append((0, v_max, a_plus, points[i]))\n",
    "        \n",
    "        output_parameters.append((v_max, v_max, 0, x))\n",
    "        t = function_x_for_x(t_for_x_points[len(t_for_x_points) - 1], v_max, v_max, 0, x, x_2)\n",
    "        t_for_x_points.append(t)\n",
    "        \n",
    "        a_minus = function_a(v_max, 0, x_2, points[i + 1])\n",
    "        output_parameters.append((v_max, 0, a_minus, x_2))\n",
    "        t = function_x_for_x(t_for_x_points[len(t_for_x_points) - 1], v_max, 0, a_minus, x_2, points[i + 1])\n",
    "        t_for_x_points.append(t)\n",
    "        \n",
    "        a_for_max.append(a_plus)\n",
    "        a_for_max.append(a_minus)\n",
    "        "
   ]
  },
  {
   "cell_type": "markdown",
   "id": "5d8f989b",
   "metadata": {},
   "source": [
    "Во время анимирования движения значения времени бинпоиском сопоставляются с соответствующим участком дистанции, и для него вызываются функции с уравнениями с нужными параметрами."
   ]
  },
  {
   "cell_type": "code",
   "execution_count": 6,
   "id": "abbf5013",
   "metadata": {},
   "outputs": [],
   "source": [
    "from bisect import bisect_left\n",
    "def function_x(t):\n",
    "    index = bisect_left(t_for_x_points, t) - 1\n",
    "    return function_x_t(output_parameters[index][0], output_parameters[index][1], output_parameters[index][2], output_parameters[index][3], t - t_for_x_points[index])\n",
    "\n",
    "def function_v(t):\n",
    "    index = bisect_left(t_for_x_points, t) - 1\n",
    "    return function_v_t(output_parameters[index][0], output_parameters[index][1], output_parameters[index][2], output_parameters[index][3], t - t_for_x_points[index])\n",
    "\n",
    "def function_a(t):\n",
    "    index = bisect_left(t_for_x_points, t) - 1\n",
    "    return function_a_t(output_parameters[index][0], output_parameters[index][1], output_parameters[index][2], output_parameters[index][3], t - t_for_x_points[index])\n"
   ]
  },
  {
   "cell_type": "markdown",
   "id": "b1108794",
   "metadata": {},
   "source": [
    "Создание статических объектов, которые не изменятся во время итераций.\n",
    "1. Светофоры - зеленые треугольники\n",
    "2. Конец и начало дистанции - желтые квадраты\n",
    "3. Шаблоны для графиков x(t), v(t), a(t)"
   ]
  },
  {
   "cell_type": "code",
   "execution_count": 7,
   "id": "3788cd09",
   "metadata": {
    "scrolled": false
   },
   "outputs": [
    {
     "data": {
      "image/png": "[encoded data removed]",
      "text/plain": [
       "<Figure size 936x216 with 1 Axes>"
      ]
     },
     "metadata": {
      "needs_background": "light"
     },
     "output_type": "display_data"
    },
    {
     "data": {
      "image/png": "[encoded data removed]",
      "text/plain": [
       "<Figure size 936x720 with 3 Axes>"
      ]
     },
     "metadata": {
      "needs_background": "light"
     },
     "output_type": "display_data"
    }
   ],
   "source": [
    "%matplotlib inline\n",
    "import numpy as np\n",
    "import matplotlib.pyplot as plt\n",
    "import seaborn as sns\n",
    "\n",
    "fig_model = plt.figure(figsize=(13,3))\n",
    "ax_model = plt.subplot(1,1,1) \n",
    "plt.axis('off')\n",
    "fig = plt.figure(figsize=(13,10))\n",
    "axs = fig.subplots(3,1)\n",
    "\n",
    "ax_model.set_xlim((-1,dist + 1))\n",
    "ax_model.set_ylim((-1,1))\n",
    "ax_model.set_ylabel(' ')\n",
    "\n",
    "axs[0].set_xlim(( -1, t_for_x_points[len(t_for_x_points) - 1] + 1))        \n",
    "axs[0].set_ylim(( -1, dist + 1))\n",
    "axs[0].set_ylabel('x (time)')\n",
    "axs[0].minorticks_on()\n",
    "axs[0].grid(True, which='both')\n",
    "axs[0].grid(which='minor', color='gray', linestyle=':')\n",
    "\n",
    "axs[1].set_xlim((-1,t_for_x_points[len(t_for_x_points) - 1] + 1))\n",
    "axs[1].set_ylim((-1, v_max + 1))\n",
    "axs[1].set_ylabel('v (time)')\n",
    "axs[1].minorticks_on()\n",
    "axs[1].grid(True, which='both')\n",
    "axs[1].grid(which='minor', color='gray', linestyle=':')\n",
    "\n",
    "axs[2].set_xlim((-1,t_for_x_points[len(t_for_x_points) - 1] + 1))\n",
    "axs[2].set_ylim((min(a_for_max) - 1,max(a_for_max) + 1))\n",
    "axs[2].set_ylabel('a (time)')\n",
    "axs[2].minorticks_on()\n",
    "axs[2].grid(True, which='both')\n",
    "axs[2].grid(which='minor', color='gray', linestyle=':')\n",
    "\n",
    "linex, = axs[0].plot([], [], 'b', lw=3)    \n",
    "linev, = axs[1].plot([], [], 'r', lw=3)\n",
    "linea, = axs[2].plot([], [], 'c', lw=3)\n",
    "pt1, = ax_model.plot([], [], 'r.', ms=20)\n",
    "line3, = ax_model.plot([], [], lw=3)\n",
    "\n",
    "start, = ax_model.plot(points[0], 0, 'ys', ms=10)\n",
    "end, = ax_model.plot(points[len(points) - 1], 0, 'ys', ms=10)\n",
    "\n",
    "for i in points:\n",
    "    start, = ax_model.plot(i, 0, 'g^', ms=10)\n",
    "    end, = ax_model.plot(i, 0, 'g^', ms=10)"
   ]
  },
  {
   "cell_type": "code",
   "execution_count": 8,
   "id": "7f0da6b8",
   "metadata": {},
   "outputs": [],
   "source": [
    "\n",
    "def init():\n",
    "    line3.set_data([], [])\n",
    "    return line3,\n",
    "\n",
    "xdata = []\n",
    "\n",
    "def animate(i):\n",
    "    t = 0.01 * i\n",
    "    x = function_x(t)\n",
    "    xdata.append(x)\n",
    "    line3.set_data(xdata[0:1], 0)\n",
    "    pt1.set_data(x, 0)\n",
    "    return pt1,\n",
    " "
   ]
  },
  {
   "cell_type": "code",
   "execution_count": null,
   "id": "f8ebac37",
   "metadata": {},
   "outputs": [],
   "source": [
    "from matplotlib.animation import FuncAnimation\n",
    "\n",
    "anim = FuncAnimation(fig_model, animate, init_func=init,\n",
    "                               frames=int(100*(t_for_x_points[len(t_for_x_points) - 1])), interval=20, blit=True)\n",
    "\n",
    "from IPython.display import HTML\n",
    "HTML(anim.to_html5_video())\n"
   ]
  },
  {
   "cell_type": "code",
   "execution_count": null,
   "id": "9aed2a77",
   "metadata": {},
   "outputs": [],
   "source": [
    "def init():\n",
    "    linex.set_data([], [])\n",
    "    linev.set_data([], [])\n",
    "    linea.set_data([], [])\n",
    "    return linex, linev, linea\n",
    "xdata = []\n",
    "vdata = []\n",
    "adata = []\n",
    "tdata = []\n",
    "def animate(i):\n",
    "    t = 0.01 * i\n",
    "    tdata.append(t)\n",
    "    x = function_x(t)\n",
    "    xdata.append(x)\n",
    "    v = function_v(t)\n",
    "    vdata.append(v)\n",
    "    a = function_a(t)\n",
    "    adata.append(a)\n",
    "    linex.set_data(tdata, xdata)\n",
    "    linev.set_data(tdata, vdata)\n",
    "    linea.set_data(tdata, adata)\n",
    "    return linex, linev, linea"
   ]
  },
  {
   "cell_type": "code",
   "execution_count": null,
   "id": "1d92abb9",
   "metadata": {},
   "outputs": [],
   "source": [
    "anim = FuncAnimation(fig, animate, init_func=init, frames=int(100*(t_for_x_points[len(t_for_x_points) - 1])), interval=20, blit=True)\n",
    "\n",
    "HTML(anim.to_html5_video())\n",
    " "
   ]
  }
 ],
 "metadata": {
  "kernelspec": {
   "display_name": "Python 3 (ipykernel)",
   "language": "python",
   "name": "python3"
  },
  "language_info": {
   "codemirror_mode": {
    "name": "ipython",
    "version": 3
   },
   "file_extension": ".py",
   "mimetype": "text/x-python",
   "name": "python",
   "nbconvert_exporter": "python",
   "pygments_lexer": "ipython3",
   "version": "3.8.1"
  }
 },
 "nbformat": 4,
 "nbformat_minor": 5
}
